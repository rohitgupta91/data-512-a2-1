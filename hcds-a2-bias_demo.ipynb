{
 "cells": [
  {
   "cell_type": "markdown",
   "metadata": {},
   "source": [
    "# Bias on Wikipedia\n",
    "\n",
    "For this assignment (https://wiki.communitydata.cc/HCDS_(Fall_2017)/Assignments#A2:_Bias_in_data), your job is to analyze what the nature of political articles on Wikipedia - both their existence, and their quality - can tell us about bias in Wikipedia's content.\n",
    "\n",
    "# Making ORES requests\n",
    "\n",
    "Below is an example of how to make requests through the ORES system in Python to find out the current quality of an article. Specifically, this is a function designed to make a request with *multiple* revision IDs. You can take this function, split your revision IDs up into chunks of 50 or 100 to avoid hitting limits in ORES, pass each chunk through this function, and then stitch the whole set together."
   ]
  },
  {
   "cell_type": "code",
   "execution_count": 4,
   "metadata": {},
   "outputs": [
    {
     "name": "stdout",
     "output_type": "stream",
     "text": [
      "{\n",
      "    \"enwiki\": {\n",
      "        \"models\": {\n",
      "            \"wp10\": {\n",
      "                \"version\": \"0.5.0\"\n",
      "            }\n",
      "        },\n",
      "        \"scores\": {\n",
      "            \"757539710\": {\n",
      "                \"wp10\": {\n",
      "                    \"score\": {\n",
      "                        \"prediction\": \"Start\",\n",
      "                        \"probability\": {\n",
      "                            \"B\": 0.0950995993086368,\n",
      "                            \"C\": 0.1709859524092081,\n",
      "                            \"FA\": 0.002534267983331672,\n",
      "                            \"GA\": 0.005731369423122624,\n",
      "                            \"Start\": 0.7091352495053856,\n",
      "                            \"Stub\": 0.01651356137031511\n",
      "                        }\n",
      "                    }\n",
      "                }\n",
      "            },\n",
      "            \"783381498\": {\n",
      "                \"wp10\": {\n",
      "                    \"score\": {\n",
      "                        \"prediction\": \"Start\",\n",
      "                        \"probability\": {\n",
      "                            \"B\": 0.020202281665235494,\n",
      "                            \"C\": 0.040498863202895134,\n",
      "                            \"FA\": 0.002648428776337411,\n",
      "                            \"GA\": 0.005101906528059532,\n",
      "                            \"Start\": 0.4793812253273645,\n",
      "                            \"Stub\": 0.452167294500108\n",
      "                        }\n",
      "                    }\n",
      "                }\n",
      "            },\n",
      "            \"807355596\": {\n",
      "                \"wp10\": {\n",
      "                    \"score\": {\n",
      "                        \"prediction\": \"Start\",\n",
      "                        \"probability\": {\n",
      "                            \"B\": 0.03174101428217136,\n",
      "                            \"C\": 0.05151754557912956,\n",
      "                            \"FA\": 0.0030585651086261195,\n",
      "                            \"GA\": 0.0059733440502096275,\n",
      "                            \"Start\": 0.7992220699630344,\n",
      "                            \"Stub\": 0.10848746101682906\n",
      "                        }\n",
      "                    }\n",
      "                }\n",
      "            }\n",
      "        }\n",
      "    }\n",
      "}\n"
     ]
    }
   ],
   "source": [
    "import requests\n",
    "import json\n",
    "\n",
    "headers = {'User-Agent' : 'https://github.com/your_github_username', 'From' : 'your_uw_email@uw.edu'}\n",
    "\n",
    "def get_ores_data(revision_ids, headers):\n",
    "    \n",
    "    # Define the endpoint\n",
    "    endpoint = 'https://ores.wikimedia.org/v3/scores/{project}/?models={model}&revids={revids}'\n",
    "    \n",
    "    # Specify the parameters - smushing all the revision IDs together separated by | marks.\n",
    "    # Yes, 'smush' is a technical term, trust me I'm a scientist.\n",
    "    # What do you mean \"but people trusting scientists regularly goes horribly wrong\" who taught you tha- oh.  \n",
    "    params = {'project' : 'enwiki',\n",
    "              'model'   : 'wp10',\n",
    "              'revids'  : '|'.join(str(x) for x in revision_ids)\n",
    "              }\n",
    "    api_call = requests.get(endpoint.format(**params))\n",
    "    response = api_call.json()\n",
    "    print(json.dumps(response, indent=4, sort_keys=True))\n",
    "\n",
    "\n",
    "# So if we grab some example revision IDs and turn them into a list and then call get_ores_data...\n",
    "example_ids = [783381498, 807355596, 757539710]\n",
    "get_ores_data(example_ids, headers)"
   ]
  },
  {
   "cell_type": "markdown",
   "metadata": {},
   "source": [
    "Importing the other data is just a matter of reading CSV files in! And if you're an R programmer wondering where the R example is - check the other file in this example."
   ]
  },
  {
   "cell_type": "code",
   "execution_count": 3,
   "metadata": {},
   "outputs": [],
   "source": [
    "## getting the data from the CSV files\n",
    "import csv\n",
    "\n",
    "data = []\n",
    "with open('page_data.csv') as csvfile:\n",
    "    reader = csv.reader(csvfile)\n",
    "    for row in reader:\n",
    "        data.append([row[0],row[1],row[2]])"
   ]
  },
  {
   "cell_type": "code",
   "execution_count": 5,
   "metadata": {},
   "outputs": [
    {
     "name": "stdout",
     "output_type": "stream",
     "text": [
      "['Albania', 'Aćif Hadžiahmetović', '742544909']\n"
     ]
    }
   ],
   "source": [
    "print(data[782])"
   ]
  },
  {
   "cell_type": "code",
   "execution_count": null,
   "metadata": {},
   "outputs": [],
   "source": []
  }
 ],
 "metadata": {
  "kernelspec": {
   "display_name": "Python 3",
   "language": "python",
   "name": "python3"
  },
  "language_info": {
   "codemirror_mode": {
    "name": "ipython",
    "version": 3
   },
   "file_extension": ".py",
   "mimetype": "text/x-python",
   "name": "python",
   "nbconvert_exporter": "python",
   "pygments_lexer": "ipython3",
   "version": "3.6.2"
  }
 },
 "nbformat": 4,
 "nbformat_minor": 2
}
